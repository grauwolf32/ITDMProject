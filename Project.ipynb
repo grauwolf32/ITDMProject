{
 "cells": [
  {
   "cell_type": "code",
   "execution_count": 2,
   "metadata": {
    "collapsed": false
   },
   "outputs": [
    {
     "name": "stderr",
     "output_type": "stream",
     "text": [
      "/Users/denis/anaconda/lib/python2.7/site-packages/matplotlib/font_manager.py:273: UserWarning: Matplotlib is building the font cache using fc-list. This may take a moment.\n",
      "  warnings.warn('Matplotlib is building the font cache using fc-list. This may take a moment.')\n"
     ]
    }
   ],
   "source": [
    "import pandas as pd\n",
    "import string\n",
    "import numpy as np\n",
    "import itertools\n",
    "import matplotlib.pyplot as plt\n",
    "import itertools\n",
    "import seaborn as sns\n",
    "from scipy import stats\n",
    "import matplotlib\n",
    "import math"
   ]
  },
  {
   "cell_type": "markdown",
   "metadata": {},
   "source": [
    "# Загрузка данных"
   ]
  },
  {
   "cell_type": "code",
   "execution_count": 3,
   "metadata": {
    "collapsed": false
   },
   "outputs": [],
   "source": [
    "def fix_columns(df):\n",
    "    cols=list(df.columns)\n",
    "    real_columns = ['COMPARABLE RENTAL 1 ']#[u'Boro-Block-Lot',u'Condo Section',u'Address',u'Neighborhood',u'Building Classification',\\\n",
    "                    #u'Total Units',u'Year Built',u'Gross SqFt',u'Est. Gross Income',u'Gross Income per SqFt',\\\n",
    "                    #u'Full Market Value',u'Market Value per SqFt',u'Boro-Block-Lot', u'Address',u'Neighborhood',\\\n",
    "                    #u'Building Classification',u'Total Units', u'Year Built',u'Gross SqFt',u'Est. Gross Income',\\\n",
    "                    #u'Gross Income per SqFt',u'Full Market Value',u'Market Value per SqFt',u'Dist. from Coop in miles',\\\n",
    "                    #u'Boro-Block-Lot', u'COMPARABLE RENTAL 2  Address',u'Neighborhood',u'Building Classification',\\\n",
    "                    #u'Total Units', u'COMPARABLE RENTAL 2  Year Built',u'Gross SqFt',u'Est. Gross Income',\\\n",
    "                    #u'Gross Income per SqFt',u'Full Market Value',u'Market Value per SqFt',u'Dist. from Coop in miles']\n",
    "    to_remove = ['QUEENS CONDOMINIUM PROPERTY ', 'BRONX CONDOMINIUM PROPERTY ', 'BROOKLYN CONDOMINIUM PROPERTY ',\\\n",
    "                 'MANHATTAN CONDOMINIUM PROPERTY ', 'STATEN ISLAND CONDOMINIUM PROPERTY ',\\\n",
    "                'QUEENS CONDOMINIUMS COMPARABLE PROPERTIES ',\\\n",
    "                 'BRONX CONDOMINIUMS COMPARABLE PROPERTIES ','BROOKLYN CONDOMINIUMS COMPARABLE PROPERTIES ',\\\n",
    "                 'MANHATTAN CONDOMINIUMS COMPARABLE PROPERTIES ', 'STATEN ISLAND CONDOMINIUMS COMPARABLE PROPERTIES ']\n",
    "    rental = 'COMPARABLE RENTAL '\n",
    "    rm = []\n",
    "    table = {}\n",
    "    for c in cols:\n",
    "        c_new = ' '.join(filter(lambda s: s!= '\\xc3\\xa2\\xc2\\x80\\xc2\\x93', c.split()))\n",
    "        flag = True\n",
    "        if flag:\n",
    "            if c_new.startswith('COMPARABLE RENTAL 3'):\n",
    "                rm.append(c)\n",
    "        if flag:\n",
    "            if c_new.startswith(rental):\n",
    "                table[c] = ('RENTAL ' + c_new[len(rental):])\n",
    "                flag = not flag\n",
    "        if flag:\n",
    "            for prefix in to_remove:\n",
    "                if c_new.startswith(prefix):\n",
    "                    table[c] = ('PROPERTY ' + c_new[len(prefix):])\n",
    "                    flag = not flag\n",
    "                    break\n",
    "        if flag:    \n",
    "            table[c] = c_new\n",
    "    df = df.drop(rm, axis=1)\n",
    "    df = df.rename(index=str, columns=table)\n",
    "    return df"
   ]
  },
  {
   "cell_type": "code",
   "execution_count": 4,
   "metadata": {
    "collapsed": false
   },
   "outputs": [],
   "source": [
    "df = pd.DataFrame()\n",
    "for i in range(2008, 2012):\n",
    "    for j in ['Bronx', 'Brooklyn', 'Manhattan', 'Queens', 'Staten_Island']:\n",
    "        new_df = pd.read_csv('Datasets/Condominium/%i_%i/DOF__Condominium_Comparable_Rental_Income___%s___FY_%i_%i.csv'\\\n",
    "        % (i, i+1, j, i, i+1))\n",
    "        new_df['Year'] = i\n",
    "        new_df['District'] = j\n",
    "        df = pd.concat([df, fix_columns(new_df)], ignore_index=True)"
   ]
  },
  {
   "cell_type": "code",
   "execution_count": 5,
   "metadata": {
    "collapsed": false,
    "scrolled": false
   },
   "outputs": [
    {
     "name": "stdout",
     "output_type": "stream",
     "text": [
      "<class 'pandas.core.frame.DataFrame'>\n",
      "Int64Index: 8449 entries, 0 to 8448\n",
      "Data columns (total 23 columns):\n",
      "District                            8449 non-null object\n",
      "PROPERTY Address                    8449 non-null object\n",
      "PROPERTY Boro-Block-Lot             8449 non-null object\n",
      "PROPERTY Building Classification    8449 non-null object\n",
      "PROPERTY Condo Section              8449 non-null object\n",
      "PROPERTY Full Market Value          8449 non-null int64\n",
      "PROPERTY Gross Income per SqFt      8449 non-null float64\n",
      "PROPERTY Gross SqFt                 8449 non-null int64\n",
      "PROPERTY Market Value per SqFt      8448 non-null float64\n",
      "PROPERTY Neighborhood               8449 non-null object\n",
      "PROPERTY Total Units                8449 non-null int64\n",
      "PROPERTY Year Built                 8353 non-null float64\n",
      "RENTAL 1 Address                    8448 non-null object\n",
      "RENTAL 1 Boro-Block-Lot             8449 non-null object\n",
      "RENTAL 1 Building Classification    8449 non-null object\n",
      "RENTAL 1 Full Market Value          8449 non-null int64\n",
      "RENTAL 1 Gross Income per SqFt      8449 non-null float64\n",
      "RENTAL 1 Gross SqFt                 8449 non-null int64\n",
      "RENTAL 1 Market Value per SqFt      8449 non-null float64\n",
      "RENTAL 1 Neighborhood               8449 non-null object\n",
      "RENTAL 1 Total Units                8449 non-null int64\n",
      "RENTAL 1 Year Built                 8449 non-null int64\n",
      "Year                                8449 non-null int64\n",
      "dtypes: float64(5), int64(8), object(10)\n",
      "memory usage: 1.5+ MB\n"
     ]
    }
   ],
   "source": [
    "for c in df.columns:\n",
    "    if df[c].count() < 8000:\n",
    "        df = df.drop([c], axis=1)\n",
    "df.info(max_cols=300)"
   ]
  },
  {
   "cell_type": "code",
   "execution_count": 6,
   "metadata": {
    "collapsed": false
   },
   "outputs": [
    {
     "data": {
      "text/html": [
       "<div>\n",
       "<table border=\"1\" class=\"dataframe\">\n",
       "  <thead>\n",
       "    <tr style=\"text-align: right;\">\n",
       "      <th></th>\n",
       "      <th>District</th>\n",
       "      <th>PROPERTY Address</th>\n",
       "      <th>PROPERTY Boro-Block-Lot</th>\n",
       "      <th>PROPERTY Building Classification</th>\n",
       "      <th>PROPERTY Condo Section</th>\n",
       "      <th>PROPERTY Full Market Value</th>\n",
       "      <th>PROPERTY Gross Income per SqFt</th>\n",
       "      <th>PROPERTY Gross SqFt</th>\n",
       "      <th>PROPERTY Market Value per SqFt</th>\n",
       "      <th>PROPERTY Neighborhood</th>\n",
       "      <th>...</th>\n",
       "      <th>RENTAL 1 Boro-Block-Lot</th>\n",
       "      <th>RENTAL 1 Building Classification</th>\n",
       "      <th>RENTAL 1 Full Market Value</th>\n",
       "      <th>RENTAL 1 Gross Income per SqFt</th>\n",
       "      <th>RENTAL 1 Gross SqFt</th>\n",
       "      <th>RENTAL 1 Market Value per SqFt</th>\n",
       "      <th>RENTAL 1 Neighborhood</th>\n",
       "      <th>RENTAL 1 Total Units</th>\n",
       "      <th>RENTAL 1 Year Built</th>\n",
       "      <th>Year</th>\n",
       "    </tr>\n",
       "  </thead>\n",
       "  <tbody>\n",
       "    <tr>\n",
       "      <th>0</th>\n",
       "      <td>Bronx</td>\n",
       "      <td>717 KELLY STREET\\nBronx, New York\\n(40.8158575...</td>\n",
       "      <td>2-02686-7501</td>\n",
       "      <td>R2-WALK-UP</td>\n",
       "      <td>53-R1</td>\n",
       "      <td>583003</td>\n",
       "      <td>11.50</td>\n",
       "      <td>14384</td>\n",
       "      <td>40.5</td>\n",
       "      <td>MORRISANIA/LONGWOOD</td>\n",
       "      <td>...</td>\n",
       "      <td>2-02427-0001</td>\n",
       "      <td>C7-WALK-UP</td>\n",
       "      <td>395000</td>\n",
       "      <td>10.58</td>\n",
       "      <td>11055</td>\n",
       "      <td>35.7</td>\n",
       "      <td>MELROSE/CONCOURSE</td>\n",
       "      <td>16</td>\n",
       "      <td>1923</td>\n",
       "      <td>2008</td>\n",
       "    </tr>\n",
       "    <tr>\n",
       "      <th>1</th>\n",
       "      <td>Bronx</td>\n",
       "      <td>1209 NELSON AVENUE\\nBronx, New York\\n(40.83785...</td>\n",
       "      <td>2-02516-7501</td>\n",
       "      <td>R4-ELEVATOR</td>\n",
       "      <td>73-R1</td>\n",
       "      <td>1609988</td>\n",
       "      <td>16.33</td>\n",
       "      <td>24262</td>\n",
       "      <td>66.0</td>\n",
       "      <td>HIGHBRIDGE/MORRIS HEIGHTS</td>\n",
       "      <td>...</td>\n",
       "      <td>2-02474-0051</td>\n",
       "      <td>C1-WALK-UP</td>\n",
       "      <td>1190000</td>\n",
       "      <td>16.47</td>\n",
       "      <td>17750</td>\n",
       "      <td>67.0</td>\n",
       "      <td>MELROSE/CONCOURSE</td>\n",
       "      <td>20</td>\n",
       "      <td>1910</td>\n",
       "      <td>2008</td>\n",
       "    </tr>\n",
       "    <tr>\n",
       "      <th>2</th>\n",
       "      <td>Bronx</td>\n",
       "      <td>3240 NETHERLAND AVENUE\\nBronx, New York\\n(40.8...</td>\n",
       "      <td>2-05787-7501</td>\n",
       "      <td>R4-ELEVATOR</td>\n",
       "      <td>30-R1</td>\n",
       "      <td>760999</td>\n",
       "      <td>18.52</td>\n",
       "      <td>10108</td>\n",
       "      <td>75.0</td>\n",
       "      <td>RIVERDALE</td>\n",
       "      <td>...</td>\n",
       "      <td>2-03145-0025</td>\n",
       "      <td>C1-WALK-UP</td>\n",
       "      <td>360000</td>\n",
       "      <td>13.52</td>\n",
       "      <td>9424</td>\n",
       "      <td>38.2</td>\n",
       "      <td>FORDHAM</td>\n",
       "      <td>16</td>\n",
       "      <td>1925</td>\n",
       "      <td>2008</td>\n",
       "    </tr>\n",
       "    <tr>\n",
       "      <th>3</th>\n",
       "      <td>Bronx</td>\n",
       "      <td>2718 SCHURZ AVENUE\\nBronx, New York\\n(40.81359...</td>\n",
       "      <td>2-05604-7501</td>\n",
       "      <td>R4-ELEVATOR</td>\n",
       "      <td>16-R1</td>\n",
       "      <td>4000024</td>\n",
       "      <td>15.50</td>\n",
       "      <td>63416</td>\n",
       "      <td>63.0</td>\n",
       "      <td>THROGS NECK</td>\n",
       "      <td>...</td>\n",
       "      <td>2-03142-0200</td>\n",
       "      <td>D1-ELEVATOR</td>\n",
       "      <td>4880000</td>\n",
       "      <td>18.25</td>\n",
       "      <td>94682</td>\n",
       "      <td>52.0</td>\n",
       "      <td>FORDHAM</td>\n",
       "      <td>99</td>\n",
       "      <td>1972</td>\n",
       "      <td>2008</td>\n",
       "    </tr>\n",
       "    <tr>\n",
       "      <th>4</th>\n",
       "      <td>Bronx</td>\n",
       "      <td>720 217 STREET\\nBronx, New York\\n(40.881931979...</td>\n",
       "      <td>2-04664-7501</td>\n",
       "      <td>R2-WALK-UP</td>\n",
       "      <td>75-R1</td>\n",
       "      <td>1310008</td>\n",
       "      <td>16.76</td>\n",
       "      <td>19225</td>\n",
       "      <td>68.0</td>\n",
       "      <td>WILLIAMSBRIDGE</td>\n",
       "      <td>...</td>\n",
       "      <td>2-03740-0052</td>\n",
       "      <td>C1-WALK-UP</td>\n",
       "      <td>612000</td>\n",
       "      <td>9.67</td>\n",
       "      <td>18720</td>\n",
       "      <td>32.7</td>\n",
       "      <td>SOUNDVIEW</td>\n",
       "      <td>25</td>\n",
       "      <td>1926</td>\n",
       "      <td>2008</td>\n",
       "    </tr>\n",
       "  </tbody>\n",
       "</table>\n",
       "<p>5 rows × 23 columns</p>\n",
       "</div>"
      ],
      "text/plain": [
       "  District                                   PROPERTY Address  \\\n",
       "0    Bronx  717 KELLY STREET\\nBronx, New York\\n(40.8158575...   \n",
       "1    Bronx  1209 NELSON AVENUE\\nBronx, New York\\n(40.83785...   \n",
       "2    Bronx  3240 NETHERLAND AVENUE\\nBronx, New York\\n(40.8...   \n",
       "3    Bronx  2718 SCHURZ AVENUE\\nBronx, New York\\n(40.81359...   \n",
       "4    Bronx  720 217 STREET\\nBronx, New York\\n(40.881931979...   \n",
       "\n",
       "  PROPERTY Boro-Block-Lot PROPERTY Building Classification  \\\n",
       "0            2-02686-7501                       R2-WALK-UP   \n",
       "1            2-02516-7501                      R4-ELEVATOR   \n",
       "2            2-05787-7501                      R4-ELEVATOR   \n",
       "3            2-05604-7501                      R4-ELEVATOR   \n",
       "4            2-04664-7501                       R2-WALK-UP   \n",
       "\n",
       "  PROPERTY Condo Section  PROPERTY Full Market Value  \\\n",
       "0                  53-R1                      583003   \n",
       "1                  73-R1                     1609988   \n",
       "2                  30-R1                      760999   \n",
       "3                  16-R1                     4000024   \n",
       "4                  75-R1                     1310008   \n",
       "\n",
       "   PROPERTY Gross Income per SqFt  PROPERTY Gross SqFt  \\\n",
       "0                           11.50                14384   \n",
       "1                           16.33                24262   \n",
       "2                           18.52                10108   \n",
       "3                           15.50                63416   \n",
       "4                           16.76                19225   \n",
       "\n",
       "   PROPERTY Market Value per SqFt      PROPERTY Neighborhood  ...   \\\n",
       "0                            40.5        MORRISANIA/LONGWOOD  ...    \n",
       "1                            66.0  HIGHBRIDGE/MORRIS HEIGHTS  ...    \n",
       "2                            75.0                  RIVERDALE  ...    \n",
       "3                            63.0                THROGS NECK  ...    \n",
       "4                            68.0             WILLIAMSBRIDGE  ...    \n",
       "\n",
       "   RENTAL 1 Boro-Block-Lot  RENTAL 1 Building Classification  \\\n",
       "0             2-02427-0001                        C7-WALK-UP   \n",
       "1             2-02474-0051                        C1-WALK-UP   \n",
       "2             2-03145-0025                        C1-WALK-UP   \n",
       "3             2-03142-0200                       D1-ELEVATOR   \n",
       "4             2-03740-0052                        C1-WALK-UP   \n",
       "\n",
       "  RENTAL 1 Full Market Value RENTAL 1 Gross Income per SqFt  \\\n",
       "0                     395000                          10.58   \n",
       "1                    1190000                          16.47   \n",
       "2                     360000                          13.52   \n",
       "3                    4880000                          18.25   \n",
       "4                     612000                           9.67   \n",
       "\n",
       "  RENTAL 1 Gross SqFt  RENTAL 1 Market Value per SqFt  RENTAL 1 Neighborhood  \\\n",
       "0               11055                            35.7      MELROSE/CONCOURSE   \n",
       "1               17750                            67.0      MELROSE/CONCOURSE   \n",
       "2                9424                            38.2                FORDHAM   \n",
       "3               94682                            52.0                FORDHAM   \n",
       "4               18720                            32.7              SOUNDVIEW   \n",
       "\n",
       "   RENTAL 1 Total Units  RENTAL 1 Year Built  Year  \n",
       "0                    16                 1923  2008  \n",
       "1                    20                 1910  2008  \n",
       "2                    16                 1925  2008  \n",
       "3                    99                 1972  2008  \n",
       "4                    25                 1926  2008  \n",
       "\n",
       "[5 rows x 23 columns]"
      ]
     },
     "execution_count": 6,
     "metadata": {},
     "output_type": "execute_result"
    }
   ],
   "source": [
    "df=df.dropna()\n",
    "df.head(5)"
   ]
  },
  {
   "cell_type": "code",
   "execution_count": 7,
   "metadata": {
    "collapsed": false
   },
   "outputs": [
    {
     "name": "stdout",
     "output_type": "stream",
     "text": [
      "<class 'pandas.core.frame.DataFrame'>\n",
      "Int64Index: 8351 entries, 0 to 8448\n",
      "Data columns (total 23 columns):\n",
      "District                            8351 non-null object\n",
      "PROPERTY Address                    8351 non-null object\n",
      "PROPERTY Boro-Block-Lot             8351 non-null object\n",
      "PROPERTY Building Classification    8351 non-null object\n",
      "PROPERTY Condo Section              8351 non-null object\n",
      "PROPERTY Full Market Value          8351 non-null int64\n",
      "PROPERTY Gross Income per SqFt      8351 non-null float64\n",
      "PROPERTY Gross SqFt                 8351 non-null int64\n",
      "PROPERTY Market Value per SqFt      8351 non-null float64\n",
      "PROPERTY Neighborhood               8351 non-null object\n",
      "PROPERTY Total Units                8351 non-null int64\n",
      "PROPERTY Year Built                 8351 non-null float64\n",
      "RENTAL 1 Address                    8351 non-null object\n",
      "RENTAL 1 Boro-Block-Lot             8351 non-null object\n",
      "RENTAL 1 Building Classification    8351 non-null object\n",
      "RENTAL 1 Full Market Value          8351 non-null int64\n",
      "RENTAL 1 Gross Income per SqFt      8351 non-null float64\n",
      "RENTAL 1 Gross SqFt                 8351 non-null int64\n",
      "RENTAL 1 Market Value per SqFt      8351 non-null float64\n",
      "RENTAL 1 Neighborhood               8351 non-null object\n",
      "RENTAL 1 Total Units                8351 non-null int64\n",
      "RENTAL 1 Year Built                 8351 non-null int64\n",
      "Year                                8351 non-null int64\n",
      "dtypes: float64(5), int64(8), object(10)\n",
      "memory usage: 1.5+ MB\n"
     ]
    }
   ],
   "source": [
    "df.to_csv('condominium.csv')\n",
    "df.info()"
   ]
  },
  {
   "cell_type": "markdown",
   "metadata": {},
   "source": [
    "# Проверка статистических гипотез"
   ]
  },
  {
   "cell_type": "code",
   "execution_count": 8,
   "metadata": {
    "collapsed": false
   },
   "outputs": [
    {
     "data": {
      "text/html": [
       "<div>\n",
       "<table border=\"1\" class=\"dataframe\">\n",
       "  <thead>\n",
       "    <tr style=\"text-align: right;\">\n",
       "      <th></th>\n",
       "      <th>PROPERTY Full Market Value</th>\n",
       "      <th>PROPERTY Gross Income per SqFt</th>\n",
       "      <th>PROPERTY Gross SqFt</th>\n",
       "      <th>PROPERTY Market Value per SqFt</th>\n",
       "      <th>PROPERTY Total Units</th>\n",
       "      <th>PROPERTY Year Built</th>\n",
       "      <th>RENTAL 1 Full Market Value</th>\n",
       "      <th>RENTAL 1 Gross Income per SqFt</th>\n",
       "      <th>RENTAL 1 Gross SqFt</th>\n",
       "      <th>RENTAL 1 Market Value per SqFt</th>\n",
       "      <th>RENTAL 1 Total Units</th>\n",
       "      <th>RENTAL 1 Year Built</th>\n",
       "      <th>Year</th>\n",
       "    </tr>\n",
       "    <tr>\n",
       "      <th>District</th>\n",
       "      <th></th>\n",
       "      <th></th>\n",
       "      <th></th>\n",
       "      <th></th>\n",
       "      <th></th>\n",
       "      <th></th>\n",
       "      <th></th>\n",
       "      <th></th>\n",
       "      <th></th>\n",
       "      <th></th>\n",
       "      <th></th>\n",
       "      <th></th>\n",
       "      <th></th>\n",
       "    </tr>\n",
       "  </thead>\n",
       "  <tbody>\n",
       "    <tr>\n",
       "      <th>Bronx</th>\n",
       "      <td>8198824.894515</td>\n",
       "      <td>14.195907</td>\n",
       "      <td>240537.046414</td>\n",
       "      <td>50.763291</td>\n",
       "      <td>237.320675</td>\n",
       "      <td>1971.367089</td>\n",
       "      <td>3412864.978903</td>\n",
       "      <td>13.778945</td>\n",
       "      <td>74840.308017</td>\n",
       "      <td>44.556456</td>\n",
       "      <td>69.894515</td>\n",
       "      <td>1950.464135</td>\n",
       "      <td>2009.658228</td>\n",
       "    </tr>\n",
       "    <tr>\n",
       "      <th>Brooklyn</th>\n",
       "      <td>3180693.735784</td>\n",
       "      <td>18.545637</td>\n",
       "      <td>40054.782843</td>\n",
       "      <td>81.101176</td>\n",
       "      <td>76.644608</td>\n",
       "      <td>1759.053922</td>\n",
       "      <td>2719538.269118</td>\n",
       "      <td>20.194765</td>\n",
       "      <td>34228.954412</td>\n",
       "      <td>77.045828</td>\n",
       "      <td>39.215196</td>\n",
       "      <td>1942.656373</td>\n",
       "      <td>2009.711275</td>\n",
       "    </tr>\n",
       "    <tr>\n",
       "      <th>Manhattan</th>\n",
       "      <td>20554147.047023</td>\n",
       "      <td>34.282893</td>\n",
       "      <td>114231.795945</td>\n",
       "      <td>167.084625</td>\n",
       "      <td>93.808024</td>\n",
       "      <td>1941.921700</td>\n",
       "      <td>23942121.872304</td>\n",
       "      <td>36.664062</td>\n",
       "      <td>126587.916954</td>\n",
       "      <td>179.352552</td>\n",
       "      <td>126.105047</td>\n",
       "      <td>1951.229508</td>\n",
       "      <td>2009.625324</td>\n",
       "    </tr>\n",
       "    <tr>\n",
       "      <th>Queens</th>\n",
       "      <td>4151240.230999</td>\n",
       "      <td>17.740827</td>\n",
       "      <td>62911.063338</td>\n",
       "      <td>71.381446</td>\n",
       "      <td>64.119970</td>\n",
       "      <td>1932.971684</td>\n",
       "      <td>4311483.606557</td>\n",
       "      <td>17.916028</td>\n",
       "      <td>65241.362146</td>\n",
       "      <td>70.575000</td>\n",
       "      <td>71.824143</td>\n",
       "      <td>1973.789121</td>\n",
       "      <td>2009.719821</td>\n",
       "    </tr>\n",
       "    <tr>\n",
       "      <th>Staten_Island</th>\n",
       "      <td>3165155.750000</td>\n",
       "      <td>6.218542</td>\n",
       "      <td>80956.687500</td>\n",
       "      <td>39.809062</td>\n",
       "      <td>78.989583</td>\n",
       "      <td>1548.395833</td>\n",
       "      <td>3432447.916667</td>\n",
       "      <td>12.786354</td>\n",
       "      <td>93324.312500</td>\n",
       "      <td>40.776667</td>\n",
       "      <td>105.072917</td>\n",
       "      <td>1965.875000</td>\n",
       "      <td>2009.500000</td>\n",
       "    </tr>\n",
       "  </tbody>\n",
       "</table>\n",
       "</div>"
      ],
      "text/plain": [
       "               PROPERTY Full Market Value  PROPERTY Gross Income per SqFt  \\\n",
       "District                                                                    \n",
       "Bronx                      8198824.894515                       14.195907   \n",
       "Brooklyn                   3180693.735784                       18.545637   \n",
       "Manhattan                 20554147.047023                       34.282893   \n",
       "Queens                     4151240.230999                       17.740827   \n",
       "Staten_Island              3165155.750000                        6.218542   \n",
       "\n",
       "               PROPERTY Gross SqFt  PROPERTY Market Value per SqFt  \\\n",
       "District                                                             \n",
       "Bronx                240537.046414                       50.763291   \n",
       "Brooklyn              40054.782843                       81.101176   \n",
       "Manhattan            114231.795945                      167.084625   \n",
       "Queens                62911.063338                       71.381446   \n",
       "Staten_Island         80956.687500                       39.809062   \n",
       "\n",
       "               PROPERTY Total Units  PROPERTY Year Built  \\\n",
       "District                                                   \n",
       "Bronx                    237.320675          1971.367089   \n",
       "Brooklyn                  76.644608          1759.053922   \n",
       "Manhattan                 93.808024          1941.921700   \n",
       "Queens                    64.119970          1932.971684   \n",
       "Staten_Island             78.989583          1548.395833   \n",
       "\n",
       "               RENTAL 1 Full Market Value  RENTAL 1 Gross Income per SqFt  \\\n",
       "District                                                                    \n",
       "Bronx                      3412864.978903                       13.778945   \n",
       "Brooklyn                   2719538.269118                       20.194765   \n",
       "Manhattan                 23942121.872304                       36.664062   \n",
       "Queens                     4311483.606557                       17.916028   \n",
       "Staten_Island              3432447.916667                       12.786354   \n",
       "\n",
       "               RENTAL 1 Gross SqFt  RENTAL 1 Market Value per SqFt  \\\n",
       "District                                                             \n",
       "Bronx                 74840.308017                       44.556456   \n",
       "Brooklyn              34228.954412                       77.045828   \n",
       "Manhattan            126587.916954                      179.352552   \n",
       "Queens                65241.362146                       70.575000   \n",
       "Staten_Island         93324.312500                       40.776667   \n",
       "\n",
       "               RENTAL 1 Total Units  RENTAL 1 Year Built         Year  \n",
       "District                                                               \n",
       "Bronx                     69.894515          1950.464135  2009.658228  \n",
       "Brooklyn                  39.215196          1942.656373  2009.711275  \n",
       "Manhattan                126.105047          1951.229508  2009.625324  \n",
       "Queens                    71.824143          1973.789121  2009.719821  \n",
       "Staten_Island            105.072917          1965.875000  2009.500000  "
      ]
     },
     "execution_count": 8,
     "metadata": {},
     "output_type": "execute_result"
    }
   ],
   "source": [
    "df.groupby('District').mean()"
   ]
  },
  {
   "cell_type": "code",
   "execution_count": 9,
   "metadata": {
    "collapsed": false
   },
   "outputs": [
    {
     "data": {
      "text/plain": [
       "PROPERTY Full Market Value        13123647.679679\n",
       "PROPERTY Gross Income per SqFt          26.887581\n",
       "PROPERTY Gross SqFt                  91066.474913\n",
       "PROPERTY Market Value per SqFt         125.936677\n",
       "PROPERTY Total Units                    88.746976\n",
       "PROPERTY Year Built                   1892.123937\n",
       "RENTAL 1 Full Market Value        14784805.420788\n",
       "RENTAL 1 Gross Income per SqFt          28.704146\n",
       "RENTAL 1 Gross SqFt                  92316.949467\n",
       "RENTAL 1 Market Value per SqFt         131.461862\n",
       "RENTAL 1 Total Units                    94.319483\n",
       "RENTAL 1 Year Built                   1952.907197\n",
       "Year                                  2009.660999\n",
       "dtype: float64"
      ]
     },
     "execution_count": 9,
     "metadata": {},
     "output_type": "execute_result"
    }
   ],
   "source": [
    "df.mean()"
   ]
  },
  {
   "cell_type": "markdown",
   "metadata": {},
   "source": [
    "## 1) Простая гипотеза"
   ]
  },
  {
   "cell_type": "markdown",
   "metadata": {},
   "source": [
    "### 1.1) Зависит ли площадь от того, арендуется или покупается недвижимость?\n",
    "$$H_0: S_{rental} \\neq S_{property}$$\n",
    "$$H_1: S_{rental} = S_{property}$$"
   ]
  },
  {
   "cell_type": "code",
   "execution_count": 10,
   "metadata": {
    "collapsed": false
   },
   "outputs": [
    {
     "name": "stdout",
     "output_type": "stream",
     "text": [
      "Нулевая гипотеза верна\n"
     ]
    }
   ],
   "source": [
    "alpha = 0.05\n",
    "rent = df['RENTAL 1 Gross SqFt']\n",
    "prop = df['PROPERTY Gross SqFt']\n",
    "print \"%s гипотеза верна\" %(\"Нулевая\" if stats.ttest_ind(prop, rent)[1] > alpha else \"Альтернативная\")"
   ]
  },
  {
   "cell_type": "markdown",
   "metadata": {},
   "source": [
    "### 1.2) Зависит ли площадь от района?\n",
    "$$H_0: S_{district_1} \\neq S_{district_2}$$\n",
    "$$H_1: S_{district_1} = S_{district_2}$$"
   ]
  },
  {
   "cell_type": "code",
   "execution_count": 12,
   "metadata": {
    "collapsed": false
   },
   "outputs": [
    {
     "name": "stdout",
     "output_type": "stream",
     "text": [
      "Нулевая гипотеза верна\n"
     ]
    }
   ],
   "source": [
    "alpha = 0.05\n",
    "rent = df['RENTAL 1 Gross SqFt']\n",
    "prop = df['PROPERTY Gross SqFt']\n",
    "print \"%s гипотеза верна\" %(\"Нулевая\" if stats.ttest_ind(prop, rent)[1] > alpha else \"Альтернативная\")"
   ]
  },
  {
   "cell_type": "code",
   "execution_count": 13,
   "metadata": {
    "collapsed": false
   },
   "outputs": [
    {
     "data": {
      "text/html": [
       "<div>\n",
       "<table border=\"1\" class=\"dataframe\">\n",
       "  <thead>\n",
       "    <tr style=\"text-align: right;\">\n",
       "      <th></th>\n",
       "      <th>Bronx</th>\n",
       "      <th>Brooklyn</th>\n",
       "      <th>Manhattan</th>\n",
       "      <th>Queens</th>\n",
       "      <th>Staten_Island</th>\n",
       "    </tr>\n",
       "  </thead>\n",
       "  <tbody>\n",
       "    <tr>\n",
       "      <th>Bronx</th>\n",
       "      <td>Equal</td>\n",
       "      <td>Not equal</td>\n",
       "      <td>Not equal</td>\n",
       "      <td>Not equal</td>\n",
       "      <td>Equal</td>\n",
       "    </tr>\n",
       "    <tr>\n",
       "      <th>Brooklyn</th>\n",
       "      <td>Not equal</td>\n",
       "      <td>Equal</td>\n",
       "      <td>Not equal</td>\n",
       "      <td>Not equal</td>\n",
       "      <td>Not equal</td>\n",
       "    </tr>\n",
       "    <tr>\n",
       "      <th>Manhattan</th>\n",
       "      <td>Not equal</td>\n",
       "      <td>Not equal</td>\n",
       "      <td>Equal</td>\n",
       "      <td>Not equal</td>\n",
       "      <td>Not equal</td>\n",
       "    </tr>\n",
       "    <tr>\n",
       "      <th>Queens</th>\n",
       "      <td>Not equal</td>\n",
       "      <td>Not equal</td>\n",
       "      <td>Not equal</td>\n",
       "      <td>Equal</td>\n",
       "      <td>Not equal</td>\n",
       "    </tr>\n",
       "    <tr>\n",
       "      <th>Staten_Island</th>\n",
       "      <td>Equal</td>\n",
       "      <td>Not equal</td>\n",
       "      <td>Not equal</td>\n",
       "      <td>Not equal</td>\n",
       "      <td>Equal</td>\n",
       "    </tr>\n",
       "  </tbody>\n",
       "</table>\n",
       "</div>"
      ],
      "text/plain": [
       "                   Bronx   Brooklyn  Manhattan     Queens Staten_Island\n",
       "Bronx              Equal  Not equal  Not equal  Not equal         Equal\n",
       "Brooklyn       Not equal      Equal  Not equal  Not equal     Not equal\n",
       "Manhattan      Not equal  Not equal      Equal  Not equal     Not equal\n",
       "Queens         Not equal  Not equal  Not equal      Equal     Not equal\n",
       "Staten_Island      Equal  Not equal  Not equal  Not equal         Equal"
      ]
     },
     "execution_count": 13,
     "metadata": {},
     "output_type": "execute_result"
    }
   ],
   "source": [
    "dstr = df[\"District\"].unique()\n",
    "m = pd.DataFrame(index=dstr, columns=dstr)\n",
    "for d1 in dstr:\n",
    "    for d2 in dstr:\n",
    "        m[d1][d2] = \"Not equal\" if (stats.ttest_ind(pd.concat([rent[df.District == d1], prop[df.District == d1]], ignore_index=True),\\\n",
    "                                                    pd.concat([rent[df.District == d2], prop[df.District == d2]], ignore_index=True))[1] < alpha) else \"Equal\"\n",
    "m"
   ]
  },
  {
   "cell_type": "markdown",
   "metadata": {},
   "source": [
    "## 2) Сложная гипотеза: критерий согласия "
   ]
  },
  {
   "cell_type": "markdown",
   "metadata": {},
   "source": [
    "### 2.1) Доход с квадратного фута распределен так же, как и стоимость квадратного фута"
   ]
  },
  {
   "cell_type": "code",
   "execution_count": 30,
   "metadata": {
    "collapsed": false
   },
   "outputs": [],
   "source": [
    "plt.figure(figsize=(20,10))\n",
    "df['PROPERTY Market Value per SqFt'].hist(bins=100)\n",
    "df['PROPERTY Gross Income per SqFt'].hist(bins=100, alpha=.7)\n",
    "plt.savefig('rent.png')"
   ]
  },
  {
   "cell_type": "code",
   "execution_count": 39,
   "metadata": {
    "collapsed": false
   },
   "outputs": [],
   "source": [
    "coef = np.corrcoef(pd.concat([df['PROPERTY Market Value per SqFt'], df['RENTAL 1 Market Value per SqFt']], ignore_index=True),\\\n",
    "            pd.concat([df['PROPERTY Gross Income per SqFt'], df['RENTAL 1 Gross Income per SqFt']], ignore_index=True))[0][1]"
   ]
  },
  {
   "cell_type": "code",
   "execution_count": 50,
   "metadata": {
    "collapsed": false
   },
   "outputs": [
    {
     "name": "stdout",
     "output_type": "stream",
     "text": [
      "Данные сильно скоррелированы\n"
     ]
    }
   ],
   "source": [
    "alpha = 0.01\n",
    "def test_significance(r, n, table):\n",
    "    return table < math.sqrt(r * r * (n - 2) / (1 - r * r))\n",
    "significance_interval = 1 - alpha\n",
    "t_table = stats.t.ppf(significance_interval, len(df) * 2 - 1, loc=1)\n",
    "print \"Данные сильно скоррелированы\" if test_significance(coef, len(df) * 2, t_table) else \"Данные слабо скоррелированы\""
   ]
  },
  {
   "cell_type": "code",
   "execution_count": null,
   "metadata": {
    "collapsed": true
   },
   "outputs": [],
   "source": [
    "coef = np.corrcoef(pd.concat([df['PROPERTY Market Value per SqFt'], df['RENTAL 1 Market Value per SqFt']], ignore_index=True),\\\n",
    "            pd.concat([df['PROPERTY Gross Income per SqFt'], df['RENTAL 1 Gross Income per SqFt']], ignore_index=True))[0][1]"
   ]
  }
 ],
 "metadata": {
  "kernelspec": {
   "display_name": "Python 2",
   "language": "python",
   "name": "python2"
  },
  "language_info": {
   "codemirror_mode": {
    "name": "ipython",
    "version": 2
   },
   "file_extension": ".py",
   "mimetype": "text/x-python",
   "name": "python",
   "nbconvert_exporter": "python",
   "pygments_lexer": "ipython2",
   "version": "2.7.6"
  }
 },
 "nbformat": 4,
 "nbformat_minor": 0
}
